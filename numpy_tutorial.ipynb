{
 "cells": [
  {
   "cell_type": "markdown",
   "id": "940da6af-da2d-4e9e-ad83-6d0cdb854482",
   "metadata": {},
   "source": [
    "# Numpy Tutorial\n",
    "######\n",
    "## Creator: Mobin Soleimani\n",
    "##### My Github: Mobinsoleimani\n",
    "##### My Linkedin : www.linkedin.com/in/mobin-soleimani\n",
    "##### contact me : soleimanimobin15@gmail.com\n"
   ]
  },
  {
   "cell_type": "markdown",
   "id": "c10cc05c-cf84-4eb6-8807-659c4287b42f",
   "metadata": {},
   "source": [
    "### import packages"
   ]
  },
  {
   "cell_type": "code",
   "execution_count": 1,
   "id": "9465e76f-58eb-4583-918d-8ac8df936466",
   "metadata": {},
   "outputs": [],
   "source": [
    "import numpy as np"
   ]
  },
  {
   "cell_type": "markdown",
   "id": "0a669aa8-3072-428f-ae51-3754e914abac",
   "metadata": {},
   "source": [
    "# Numpy ndarray\n",
    "\n",
    "#### The first step after installing NumPy is to create an array, as NumPy is primarily used for working with arrays."
   ]
  },
  {
   "cell_type": "code",
   "execution_count": 2,
   "id": "64289405-6c77-4299-9245-54bbc12c0071",
   "metadata": {},
   "outputs": [],
   "source": [
    "d = np.array([[10,5,0.2,],[2,3.5,8]])"
   ]
  },
  {
   "cell_type": "code",
   "execution_count": 3,
   "id": "b9049970-c6c2-4a84-8de0-884a1c947df4",
   "metadata": {},
   "outputs": [
    {
     "data": {
      "text/plain": [
       "array([[10. ,  5. ,  0.2],\n",
       "       [ 2. ,  3.5,  8. ]])"
      ]
     },
     "execution_count": 3,
     "metadata": {},
     "output_type": "execute_result"
    }
   ],
   "source": [
    "d"
   ]
  },
  {
   "cell_type": "markdown",
   "id": "46cd068f-22a7-44cc-8135-36ceff28d392",
   "metadata": {},
   "source": [
    "#### In NumPy, you can multiply a number with all elements of an array. This operation is vectorized, meaning there is no need to use loops.\n",
    "#### For example:"
   ]
  },
  {
   "cell_type": "code",
   "execution_count": 4,
   "id": "9a2f49c8-81b6-4e9d-aac4-4b868cbe7326",
   "metadata": {},
   "outputs": [
    {
     "data": {
      "text/plain": [
       "array([[100.,  50.,   2.],\n",
       "       [ 20.,  35.,  80.]])"
      ]
     },
     "execution_count": 4,
     "metadata": {},
     "output_type": "execute_result"
    }
   ],
   "source": [
    "d * 10"
   ]
  },
  {
   "cell_type": "code",
   "execution_count": 5,
   "id": "44570af6-eca8-4cdf-887a-7df2bd96b1b1",
   "metadata": {},
   "outputs": [
    {
     "data": {
      "text/plain": [
       "array([[20. , 10. ,  0.4],\n",
       "       [ 4. ,  7. , 16. ]])"
      ]
     },
     "execution_count": 5,
     "metadata": {},
     "output_type": "execute_result"
    }
   ],
   "source": [
    "d * 2"
   ]
  },
  {
   "cell_type": "markdown",
   "id": "f9ef34b6-b7e0-4428-a083-911368b0448d",
   "metadata": {},
   "source": [
    "#### And you can easily add two arrays together. It sounds interesting!"
   ]
  },
  {
   "cell_type": "code",
   "execution_count": 6,
   "id": "d07a5eeb-fe62-461e-b812-1a64674e182b",
   "metadata": {},
   "outputs": [
    {
     "data": {
      "text/plain": [
       "array([[20. , 10. ,  0.4],\n",
       "       [ 4. ,  7. , 16. ]])"
      ]
     },
     "execution_count": 6,
     "metadata": {},
     "output_type": "execute_result"
    }
   ],
   "source": [
    "d + d"
   ]
  },
  {
   "cell_type": "markdown",
   "id": "19191841-7077-4c88-a417-2398e9cd09de",
   "metadata": {},
   "source": [
    "#### In NumPy, you can convert a Python list to an array."
   ]
  },
  {
   "cell_type": "code",
   "execution_count": 7,
   "id": "1f468b14-5578-4154-b7b7-d220977fd88e",
   "metadata": {},
   "outputs": [],
   "source": [
    "data = [2,9,3,5,7,8,10]"
   ]
  },
  {
   "cell_type": "code",
   "execution_count": 8,
   "id": "81c5a5b0-0098-44bc-a4a3-1e1194db8756",
   "metadata": {},
   "outputs": [],
   "source": [
    "arr1 = np.array(data)"
   ]
  },
  {
   "cell_type": "code",
   "execution_count": 9,
   "id": "46886ffb-9dd7-4177-98d8-9bcb16d17d72",
   "metadata": {},
   "outputs": [
    {
     "data": {
      "text/plain": [
       "array([ 2,  9,  3,  5,  7,  8, 10])"
      ]
     },
     "execution_count": 9,
     "metadata": {},
     "output_type": "execute_result"
    }
   ],
   "source": [
    "arr1"
   ]
  },
  {
   "cell_type": "markdown",
   "id": "875dc947-b457-4de5-9874-49917448073b",
   "metadata": {},
   "source": [
    "#### you can creat 2D array with np.array"
   ]
  },
  {
   "cell_type": "code",
   "execution_count": 10,
   "id": "344b32f7-f972-4bfd-971f-90196b5fdf4c",
   "metadata": {},
   "outputs": [],
   "source": [
    "data2 = [[1,2,3,4],[5,6,7,8]]"
   ]
  },
  {
   "cell_type": "code",
   "execution_count": 11,
   "id": "2f295c8b-7c10-4b74-a3da-40c7a9ca77db",
   "metadata": {},
   "outputs": [],
   "source": [
    "arr2 = np.array(data2)"
   ]
  },
  {
   "cell_type": "code",
   "execution_count": 12,
   "id": "ca2a745c-7406-4b8b-b5b8-6202663678e4",
   "metadata": {},
   "outputs": [
    {
     "data": {
      "text/plain": [
       "array([[1, 2, 3, 4],\n",
       "       [5, 6, 7, 8]])"
      ]
     },
     "execution_count": 12,
     "metadata": {},
     "output_type": "execute_result"
    }
   ],
   "source": [
    "arr2"
   ]
  },
  {
   "cell_type": "markdown",
   "id": "96c2e7f6-65f1-4605-9168-b8bc15defae2",
   "metadata": {},
   "source": [
    "#### ndim represents the number of dimensions (axes) of the ndarray. "
   ]
  },
  {
   "cell_type": "code",
   "execution_count": 13,
   "id": "6d055f7e-fa8c-4622-8f11-67660836cd7f",
   "metadata": {},
   "outputs": [
    {
     "data": {
      "text/plain": [
       "2"
      ]
     },
     "execution_count": 13,
     "metadata": {},
     "output_type": "execute_result"
    }
   ],
   "source": [
    "arr2.ndim"
   ]
  },
  {
   "cell_type": "markdown",
   "id": "263e9c26-afa6-400d-9804-2a92f4ea9f92",
   "metadata": {},
   "source": [
    "#### shape in NumPy is an attribute of arrays that returns a tuple representing the dimensions of the array. This tuple shows how many elements the  array has in each dimension."
   ]
  },
  {
   "cell_type": "code",
   "execution_count": 14,
   "id": "4257cfb1-ddc9-459c-a839-84607ca7462c",
   "metadata": {},
   "outputs": [
    {
     "data": {
      "text/plain": [
       "(2, 4)"
      ]
     },
     "execution_count": 14,
     "metadata": {},
     "output_type": "execute_result"
    }
   ],
   "source": [
    "arr2.shape"
   ]
  },
  {
   "cell_type": "code",
   "execution_count": 15,
   "id": "e0a65626-01e4-4bc3-ab06-b465f28efb43",
   "metadata": {},
   "outputs": [],
   "source": [
    "arr3 = np.array([1, 2, 3, 4, 5, 6, 7, 8])\n"
   ]
  },
  {
   "cell_type": "code",
   "execution_count": 16,
   "id": "dccc9e58-c2e0-4c81-8e0d-ba431d22e63f",
   "metadata": {},
   "outputs": [
    {
     "data": {
      "text/plain": [
       "(8,)"
      ]
     },
     "execution_count": 16,
     "metadata": {},
     "output_type": "execute_result"
    }
   ],
   "source": [
    "arr3.shape"
   ]
  },
  {
   "cell_type": "markdown",
   "id": "ae03b321-659e-489b-9573-46f4b9f62309",
   "metadata": {},
   "source": [
    "#### With dtype, you can see the data type of the array. It can be str, int, float, or bool"
   ]
  },
  {
   "cell_type": "code",
   "execution_count": 17,
   "id": "16af9410-8d82-4c53-92b9-45c1ae474e21",
   "metadata": {},
   "outputs": [
    {
     "data": {
      "text/plain": [
       "dtype('float64')"
      ]
     },
     "execution_count": 17,
     "metadata": {},
     "output_type": "execute_result"
    }
   ],
   "source": [
    "d.dtype"
   ]
  },
  {
   "cell_type": "code",
   "execution_count": 18,
   "id": "013efa87-9ada-4eb4-a10d-dfa73e5a9b38",
   "metadata": {},
   "outputs": [],
   "source": [
    "arr = np.array([1, 2, 3])"
   ]
  },
  {
   "cell_type": "code",
   "execution_count": 19,
   "id": "93a41ff6-f38e-41c3-b1f7-50e4aeb263e1",
   "metadata": {},
   "outputs": [
    {
     "data": {
      "text/plain": [
       "dtype('int32')"
      ]
     },
     "execution_count": 19,
     "metadata": {},
     "output_type": "execute_result"
    }
   ],
   "source": [
    "arr.dtype"
   ]
  },
  {
   "cell_type": "markdown",
   "id": "18722c65-4ef3-44b8-bd81-113949d525ad",
   "metadata": {},
   "source": [
    "# Numpy zero and empty function"
   ]
  },
  {
   "cell_type": "markdown",
   "id": "6261e42c-543d-4835-92a9-41ce948e812e",
   "metadata": {},
   "source": [
    "##### The np.zeros function is a widely used function in the NumPy library that allows us to create an array of specified dimensions, where all \n",
    "##### elements are initialized to zero. This function is particularly useful when we need an array with an initial value of zero to work as a placeholder or starting point."
   ]
  },
  {
   "cell_type": "code",
   "execution_count": 20,
   "id": "87c9c5a3-f51c-451b-849c-3c6721973e8f",
   "metadata": {},
   "outputs": [
    {
     "data": {
      "text/plain": [
       "array([0., 0., 0., 0., 0., 0., 0., 0., 0., 0.])"
      ]
     },
     "execution_count": 20,
     "metadata": {},
     "output_type": "execute_result"
    }
   ],
   "source": [
    "np.zeros(10)"
   ]
  },
  {
   "cell_type": "markdown",
   "id": "0af90d24-5833-4574-bafe-ffec1f0d901d",
   "metadata": {},
   "source": [
    "##### empty in NumPy is a function used to create an uninitialized array. This means the array is created with a specified shape but without \n",
    "##### initializing its elements to any particular values. Instead, it contains whatever random data happens to be in the allocated memory at that moment.\n",
    "\n"
   ]
  },
  {
   "cell_type": "code",
   "execution_count": 21,
   "id": "6e245813-0b83-4910-9b2f-8b369c1a65a6",
   "metadata": {},
   "outputs": [
    {
     "data": {
      "text/plain": [
       "array([1.49137488e-311, 0.00000000e+000, 4.94065646e-324])"
      ]
     },
     "execution_count": 21,
     "metadata": {},
     "output_type": "execute_result"
    }
   ],
   "source": [
    "np.empty((3))"
   ]
  },
  {
   "cell_type": "markdown",
   "id": "21543a01-6eaa-409b-acda-e2f36582e3a4",
   "metadata": {},
   "source": [
    "##### The arange function is a function in numpy that creates an array as far as you specify"
   ]
  },
  {
   "cell_type": "code",
   "execution_count": 22,
   "id": "16c11b66-e2ae-4b9b-a524-d9eae749a274",
   "metadata": {},
   "outputs": [
    {
     "data": {
      "text/plain": [
       "array([0, 1, 2, 3, 4, 5, 6, 7, 8, 9])"
      ]
     },
     "execution_count": 22,
     "metadata": {},
     "output_type": "execute_result"
    }
   ],
   "source": [
    "np.arange(10)"
   ]
  },
  {
   "cell_type": "markdown",
   "id": "d561e646-605b-4f3a-a394-9bde96d5044f",
   "metadata": {},
   "source": [
    "##### You can specify its type in numpy when you are creating an array with the dtype parameter "
   ]
  },
  {
   "cell_type": "code",
   "execution_count": 23,
   "id": "ffb01b45-8d13-4e73-97dc-ef7277b4e99a",
   "metadata": {},
   "outputs": [],
   "source": [
    "arr= np.array([2,5,6,8],dtype = 'float')"
   ]
  },
  {
   "cell_type": "code",
   "execution_count": 24,
   "id": "d762ade5-68b7-4453-8cfa-4dfe982825b3",
   "metadata": {},
   "outputs": [
    {
     "data": {
      "text/plain": [
       "dtype('float64')"
      ]
     },
     "execution_count": 24,
     "metadata": {},
     "output_type": "execute_result"
    }
   ],
   "source": [
    "arr.dtype"
   ]
  },
  {
   "cell_type": "code",
   "execution_count": 25,
   "id": "cf78210e-2222-4b37-afd3-a3cf776bf9c9",
   "metadata": {},
   "outputs": [],
   "source": [
    "n = np.arange(10,dtype='u4')"
   ]
  },
  {
   "cell_type": "code",
   "execution_count": 26,
   "id": "2f62bc5c-14a4-4a3e-ab76-73b727da8a31",
   "metadata": {},
   "outputs": [
    {
     "data": {
      "text/plain": [
       "array([0, 1, 2, 3, 4, 5, 6, 7, 8, 9], dtype=uint32)"
      ]
     },
     "execution_count": 26,
     "metadata": {},
     "output_type": "execute_result"
    }
   ],
   "source": [
    "n "
   ]
  },
  {
   "cell_type": "markdown",
   "id": "8a2413ed-9b04-4eca-8d05-b73646837f28",
   "metadata": {},
   "source": [
    "##### With numpy you can easily perform all kinds of mathematical operations on arrays\n",
    "##### Like multiplication, addition and subtraction"
   ]
  },
  {
   "cell_type": "code",
   "execution_count": 27,
   "id": "cfceabbc-690b-4e2d-b13e-3bdd288ff56c",
   "metadata": {},
   "outputs": [
    {
     "data": {
      "text/plain": [
       "array([ 4., 25., 36., 64.])"
      ]
     },
     "execution_count": 27,
     "metadata": {},
     "output_type": "execute_result"
    }
   ],
   "source": [
    "arr **2"
   ]
  },
  {
   "cell_type": "code",
   "execution_count": 28,
   "id": "43728bde-9bc6-43c3-88da-7764853fae74",
   "metadata": {},
   "outputs": [
    {
     "data": {
      "text/plain": [
       "array([0., 0., 0., 0.])"
      ]
     },
     "execution_count": 28,
     "metadata": {},
     "output_type": "execute_result"
    }
   ],
   "source": [
    "arr - arr"
   ]
  },
  {
   "cell_type": "code",
   "execution_count": 29,
   "id": "dafeb323-57ee-4475-969b-6057c3bbd64b",
   "metadata": {},
   "outputs": [
    {
     "data": {
      "text/plain": [
       "array([ 4., 25., 36., 64.])"
      ]
     },
     "execution_count": 29,
     "metadata": {},
     "output_type": "execute_result"
    }
   ],
   "source": [
    "arr * arr"
   ]
  },
  {
   "cell_type": "markdown",
   "id": "02d6015d-4fe4-482d-b888-e2009198157f",
   "metadata": {},
   "source": [
    "##### And you can even specify bigger and smaller.Piece of cake"
   ]
  },
  {
   "cell_type": "code",
   "execution_count": 30,
   "id": "dbad234d-9c85-4323-9cea-4eecaa78efa2",
   "metadata": {},
   "outputs": [
    {
     "data": {
      "text/plain": [
       "array([False,  True,  True,  True])"
      ]
     },
     "execution_count": 30,
     "metadata": {},
     "output_type": "execute_result"
    }
   ],
   "source": [
    "arr > 2\n"
   ]
  },
  {
   "cell_type": "code",
   "execution_count": 31,
   "id": "f54d924c-ca7c-4598-9eda-e726c56c8fc0",
   "metadata": {},
   "outputs": [],
   "source": [
    "arr2= np.array([22,88,99,55])"
   ]
  },
  {
   "cell_type": "code",
   "execution_count": 32,
   "id": "26572a1e-db22-49bd-88b0-a620b0d3f91e",
   "metadata": {},
   "outputs": [
    {
     "data": {
      "text/plain": [
       "array([False, False, False, False])"
      ]
     },
     "execution_count": 32,
     "metadata": {},
     "output_type": "execute_result"
    }
   ],
   "source": [
    "arr > arr2"
   ]
  },
  {
   "cell_type": "markdown",
   "id": "b8f0a8a2-373e-489d-a5df-34f9d841ac45",
   "metadata": {},
   "source": [
    "# Indexing and slicing"
   ]
  },
  {
   "cell_type": "code",
   "execution_count": 33,
   "id": "a62206f0-2ec3-4e7c-ac13-469e0d138db6",
   "metadata": {},
   "outputs": [],
   "source": [
    "r = np.arange(10)"
   ]
  },
  {
   "cell_type": "code",
   "execution_count": 34,
   "id": "9a3b9548-e63f-4468-8c1c-00f48a1d74fa",
   "metadata": {},
   "outputs": [
    {
     "data": {
      "text/plain": [
       "array([0, 1, 2, 3, 4, 5, 6, 7, 8, 9])"
      ]
     },
     "execution_count": 34,
     "metadata": {},
     "output_type": "execute_result"
    }
   ],
   "source": [
    "r"
   ]
  },
  {
   "cell_type": "markdown",
   "id": "544e4d8e-fd2d-437a-92ad-1468f2920091",
   "metadata": {},
   "source": [
    "##### Here, with this method, the 5th index can be shown"
   ]
  },
  {
   "cell_type": "code",
   "execution_count": 35,
   "id": "6b9053f4-b54f-4580-9e1c-44ccf24dfafa",
   "metadata": {},
   "outputs": [
    {
     "data": {
      "text/plain": [
       "5"
      ]
     },
     "execution_count": 35,
     "metadata": {},
     "output_type": "execute_result"
    }
   ],
   "source": [
    "r[5]"
   ]
  },
  {
   "cell_type": "markdown",
   "id": "30e5307b-ec9e-46fa-b3f6-e8c0448266ab",
   "metadata": {},
   "source": [
    "##### And you can change the value of your desired index like this"
   ]
  },
  {
   "cell_type": "code",
   "execution_count": 36,
   "id": "bb96b6a2-3dd8-455d-b18e-cee193549825",
   "metadata": {},
   "outputs": [],
   "source": [
    "r[5] = 12"
   ]
  },
  {
   "cell_type": "code",
   "execution_count": 37,
   "id": "194799a0-75c1-43bf-a72b-93810d126cff",
   "metadata": {},
   "outputs": [
    {
     "data": {
      "text/plain": [
       "array([ 0,  1,  2,  3,  4, 12,  6,  7,  8,  9])"
      ]
     },
     "execution_count": 37,
     "metadata": {},
     "output_type": "execute_result"
    }
   ],
   "source": [
    "r"
   ]
  },
  {
   "cell_type": "markdown",
   "id": "823f3b82-2483-47cf-937d-1bf8c9ee650e",
   "metadata": {},
   "source": [
    "##### in NumPy (and Python in general), slicing is used to extract specific parts of an array. The syntax r[3:6] extracts a portion of the array, \n",
    "##### starting from index 3 (inclusive) and ending at index 6 (exclusive)."
   ]
  },
  {
   "cell_type": "code",
   "execution_count": 38,
   "id": "ba97bf9c-c0e3-429a-83b0-e0c89872561c",
   "metadata": {},
   "outputs": [
    {
     "data": {
      "text/plain": [
       "array([ 3,  4, 12])"
      ]
     },
     "execution_count": 38,
     "metadata": {},
     "output_type": "execute_result"
    }
   ],
   "source": [
    "r[3:6]"
   ]
  },
  {
   "cell_type": "code",
   "execution_count": 39,
   "id": "4e44e745-8776-4bec-b2d3-4f2b1fd96ba2",
   "metadata": {},
   "outputs": [],
   "source": [
    "slice = r[3:6]"
   ]
  },
  {
   "cell_type": "code",
   "execution_count": 40,
   "id": "05170fc9-18d4-40ee-b17f-a38bcca92388",
   "metadata": {},
   "outputs": [
    {
     "data": {
      "text/plain": [
       "array([ 0,  1,  2,  3,  4, 12,  6,  7,  8,  9])"
      ]
     },
     "execution_count": 40,
     "metadata": {},
     "output_type": "execute_result"
    }
   ],
   "source": [
    "r"
   ]
  },
  {
   "cell_type": "code",
   "execution_count": 41,
   "id": "7e8df5d8-d647-45a8-a3df-aa2c184be289",
   "metadata": {},
   "outputs": [
    {
     "data": {
      "text/plain": [
       "array([ 3,  4, 12])"
      ]
     },
     "execution_count": 41,
     "metadata": {},
     "output_type": "execute_result"
    }
   ],
   "source": [
    "slice"
   ]
  },
  {
   "cell_type": "markdown",
   "id": "f02384b8-f511-47c7-b82c-b28f0ef09bca",
   "metadata": {},
   "source": [
    "##### slice[:] is a way to select or access all elements of an array in NumPy (or in Python in general). It’s essentially a shorthand for selecting\n",
    "\n",
    "#####  everything in a given dimension."
   ]
  },
  {
   "cell_type": "code",
   "execution_count": 42,
   "id": "ea89926f-7f91-4e93-a1fb-65cb43ca1e7d",
   "metadata": {},
   "outputs": [
    {
     "data": {
      "text/plain": [
       "array([ 3,  4, 12])"
      ]
     },
     "execution_count": 42,
     "metadata": {},
     "output_type": "execute_result"
    }
   ],
   "source": [
    "slice[:]"
   ]
  },
  {
   "cell_type": "markdown",
   "id": "df9f91cc-4a9d-42c0-bf8e-a8072c11dc4c",
   "metadata": {},
   "source": [
    "##### And you can change the index like this."
   ]
  },
  {
   "cell_type": "code",
   "execution_count": 43,
   "id": "1e7caac1-f8f3-4106-afb6-8b7a604700d0",
   "metadata": {},
   "outputs": [],
   "source": [
    "slice[1] = 15"
   ]
  },
  {
   "cell_type": "code",
   "execution_count": 44,
   "id": "4d555263-72a5-4ac0-9639-7c8375fdb7a2",
   "metadata": {},
   "outputs": [
    {
     "data": {
      "text/plain": [
       "array([ 3, 15, 12])"
      ]
     },
     "execution_count": 44,
     "metadata": {},
     "output_type": "execute_result"
    }
   ],
   "source": [
    "slice"
   ]
  },
  {
   "cell_type": "code",
   "execution_count": 45,
   "id": "83d11e15-9619-4d7e-bd45-43ede74cbfda",
   "metadata": {},
   "outputs": [
    {
     "data": {
      "text/plain": [
       "array([ 0,  1,  2,  3, 15, 12,  6,  7,  8,  9])"
      ]
     },
     "execution_count": 45,
     "metadata": {},
     "output_type": "execute_result"
    }
   ],
   "source": [
    "r"
   ]
  },
  {
   "cell_type": "markdown",
   "id": "37cfad7a-d2b4-4cd8-87ae-1548f9b5264d",
   "metadata": {},
   "source": [
    "# 2D and 3D and slicing array "
   ]
  },
  {
   "cell_type": "code",
   "execution_count": 46,
   "id": "0e812d4c-2727-4da2-afec-042bd8e10501",
   "metadata": {},
   "outputs": [],
   "source": [
    "arr2d = np.array([[2,1,3],[10,9,8],[2,3,7]])"
   ]
  },
  {
   "cell_type": "code",
   "execution_count": 47,
   "id": "6a890317-bada-4c88-90f9-4164045572f7",
   "metadata": {},
   "outputs": [
    {
     "data": {
      "text/plain": [
       "array([[ 2,  1,  3],\n",
       "       [10,  9,  8],\n",
       "       [ 2,  3,  7]])"
      ]
     },
     "execution_count": 47,
     "metadata": {},
     "output_type": "execute_result"
    }
   ],
   "source": [
    "arr2d"
   ]
  },
  {
   "cell_type": "markdown",
   "id": "33a364a3-7ee7-48a8-9723-792873ceca4b",
   "metadata": {},
   "source": [
    "##### In slicing 2D and 2D presentations, the first element becomes rows and the second element becomes columns like this:\n"
   ]
  },
  {
   "cell_type": "code",
   "execution_count": 48,
   "id": "49ac08b3-7211-4f08-bb24-105835236153",
   "metadata": {},
   "outputs": [
    {
     "data": {
      "text/plain": [
       "8"
      ]
     },
     "execution_count": 48,
     "metadata": {},
     "output_type": "execute_result"
    }
   ],
   "source": [
    "arr2d[1,2]"
   ]
  },
  {
   "cell_type": "markdown",
   "id": "a135921a-a7f7-4e38-b9c3-6fd76515c391",
   "metadata": {},
   "source": [
    "##### arr2d[row, column]"
   ]
  },
  {
   "cell_type": "code",
   "execution_count": 49,
   "id": "e7bca7b5-7bef-4e85-a120-f921add00ccb",
   "metadata": {},
   "outputs": [],
   "source": [
    "arr3d = np.array([[[1,2,3],[2,56,9]],[[1,2,5],[8,7,9]]])"
   ]
  },
  {
   "cell_type": "code",
   "execution_count": 50,
   "id": "070733cd-1811-4187-8ccd-18c85d3de217",
   "metadata": {},
   "outputs": [
    {
     "data": {
      "text/plain": [
       "array([[[ 1,  2,  3],\n",
       "        [ 2, 56,  9]],\n",
       "\n",
       "       [[ 1,  2,  5],\n",
       "        [ 8,  7,  9]]])"
      ]
     },
     "execution_count": 50,
     "metadata": {},
     "output_type": "execute_result"
    }
   ],
   "source": [
    "arr3d"
   ]
  },
  {
   "cell_type": "markdown",
   "id": "eb346ffd-9219-44fe-ae76-a5abae7ccc65",
   "metadata": {},
   "source": [
    "##### In NumPy, when working with 3D arrays, the first index (like 0 in arr3d[0]) refers to the first \"block\" or \"slice\" along the first dimension of \n",
    "\n",
    "##### the array. This selects the entire 2D array (or \"matrix\") at that position."
   ]
  },
  {
   "cell_type": "code",
   "execution_count": 51,
   "id": "c79443cc-5603-4551-9646-96db977453ac",
   "metadata": {},
   "outputs": [
    {
     "data": {
      "text/plain": [
       "array([[ 1,  2,  3],\n",
       "       [ 2, 56,  9]])"
      ]
     },
     "execution_count": 51,
     "metadata": {},
     "output_type": "execute_result"
    }
   ],
   "source": [
    "arr3d[0]"
   ]
  },
  {
   "cell_type": "markdown",
   "id": "85153c0c-b7ab-40de-9808-41151117ade4",
   "metadata": {},
   "source": [
    "#### Another example :"
   ]
  },
  {
   "cell_type": "code",
   "execution_count": 52,
   "id": "e8172887-3813-401f-a5e3-9b891dd1f919",
   "metadata": {},
   "outputs": [],
   "source": [
    "arr3d = np.array([[[1, 2, 3], [4, 5, 6]],[[7, 8, 9], [10, 11, 12]],[[58,6,9],[11,89,100]]])"
   ]
  },
  {
   "cell_type": "code",
   "execution_count": 53,
   "id": "78358f3e-17a5-470a-99be-7e8f3779c571",
   "metadata": {},
   "outputs": [
    {
     "data": {
      "text/plain": [
       "array([[ 58,   6,   9],\n",
       "       [ 11,  89, 100]])"
      ]
     },
     "execution_count": 53,
     "metadata": {},
     "output_type": "execute_result"
    }
   ],
   "source": [
    "arr3d[2]"
   ]
  },
  {
   "cell_type": "markdown",
   "id": "f88cd0e4-ee75-4eb5-9c9a-7119fafdc8a8",
   "metadata": {},
   "source": [
    "##### \n",
    "In NumPy, it is possible to copy an array into a variable and modify its values. If you need to revert to the original values of the array, you \n",
    "\n",
    "##### can use the copied array to restore it.\n",
    "\n",
    "### Note:\n",
    "#### However, there’s an important distinction between making a reference (just pointing to the same array) and making a copy (creating a new, independent array).\n",
    "\n",
    "#### To ensure the original array is preserved, you should explicitly create a copy using the copy() method.\n"
   ]
  },
  {
   "cell_type": "code",
   "execution_count": 54,
   "id": "0220db94-0558-4306-82ae-4e4687b3b55c",
   "metadata": {},
   "outputs": [],
   "source": [
    "old = arr3d[0].copy()"
   ]
  },
  {
   "cell_type": "code",
   "execution_count": 55,
   "id": "cd4439a5-93d8-41ad-a8e3-352a151edf42",
   "metadata": {},
   "outputs": [],
   "source": [
    "arr3d[0] = 23"
   ]
  },
  {
   "cell_type": "code",
   "execution_count": 56,
   "id": "0e4fdf4d-e83b-44ce-b96a-fae5aca50b0c",
   "metadata": {},
   "outputs": [
    {
     "data": {
      "text/plain": [
       "array([[[ 23,  23,  23],\n",
       "        [ 23,  23,  23]],\n",
       "\n",
       "       [[  7,   8,   9],\n",
       "        [ 10,  11,  12]],\n",
       "\n",
       "       [[ 58,   6,   9],\n",
       "        [ 11,  89, 100]]])"
      ]
     },
     "execution_count": 56,
     "metadata": {},
     "output_type": "execute_result"
    }
   ],
   "source": [
    "arr3d"
   ]
  },
  {
   "cell_type": "code",
   "execution_count": 57,
   "id": "91c8d536-521b-4efc-b9c3-c96de7de506e",
   "metadata": {},
   "outputs": [],
   "source": [
    "arr3d[0] = old"
   ]
  },
  {
   "cell_type": "code",
   "execution_count": 58,
   "id": "def8e70a-a4de-4f2f-b90d-d859301171f6",
   "metadata": {},
   "outputs": [
    {
     "data": {
      "text/plain": [
       "array([[[  1,   2,   3],\n",
       "        [  4,   5,   6]],\n",
       "\n",
       "       [[  7,   8,   9],\n",
       "        [ 10,  11,  12]],\n",
       "\n",
       "       [[ 58,   6,   9],\n",
       "        [ 11,  89, 100]]])"
      ]
     },
     "execution_count": 58,
     "metadata": {},
     "output_type": "execute_result"
    }
   ],
   "source": [
    "arr3d"
   ]
  },
  {
   "cell_type": "markdown",
   "id": "3c27a0e1-10d9-4cb9-8f34-ecde8431756a",
   "metadata": {},
   "source": [
    "##### In a 3D NumPy array, the syntax arr3d[1,1] is used to access a specific row from a specific \"block\" (or slice) of the array. It selects the row \n",
    "\n",
    "##### at index 1 (second row) from the \"block\" at index 1 (second block).\n",
    "\n"
   ]
  },
  {
   "cell_type": "code",
   "execution_count": 59,
   "id": "517271e9-9081-4d66-a32d-168835110a4e",
   "metadata": {},
   "outputs": [
    {
     "data": {
      "text/plain": [
       "array([10, 11, 12])"
      ]
     },
     "execution_count": 59,
     "metadata": {},
     "output_type": "execute_result"
    }
   ],
   "source": [
    "arr3d[1,1]"
   ]
  },
  {
   "cell_type": "code",
   "execution_count": 60,
   "id": "c3340c43-0b12-4615-8aec-97cfcfb63876",
   "metadata": {},
   "outputs": [
    {
     "data": {
      "text/plain": [
       "array([[ 2,  1,  3],\n",
       "       [10,  9,  8],\n",
       "       [ 2,  3,  7]])"
      ]
     },
     "execution_count": 60,
     "metadata": {},
     "output_type": "execute_result"
    }
   ],
   "source": [
    "arr2d"
   ]
  },
  {
   "cell_type": "markdown",
   "id": "83367ffc-ce81-4252-a818-3ead2a3d1106",
   "metadata": {},
   "source": [
    "##### In NumPy, arr2d[:2] is used for slicing rows in a 2D array. The :2 part means \"select rows from the start up to (but not including) index 2.\"\n"
   ]
  },
  {
   "cell_type": "code",
   "execution_count": 61,
   "id": "47f10f60-1eee-47d4-8e88-e21bbe52d843",
   "metadata": {},
   "outputs": [
    {
     "data": {
      "text/plain": [
       "array([[ 2,  1,  3],\n",
       "       [10,  9,  8]])"
      ]
     },
     "execution_count": 61,
     "metadata": {},
     "output_type": "execute_result"
    }
   ],
   "source": [
    "arr2d[:2]"
   ]
  },
  {
   "cell_type": "markdown",
   "id": "39aa51d1-23ba-4a8e-b8e2-f21f9c1a0a69",
   "metadata": {},
   "source": [
    "##### Another example:"
   ]
  },
  {
   "cell_type": "code",
   "execution_count": 62,
   "id": "063fb354-5930-46c0-a1b1-e4a533653127",
   "metadata": {},
   "outputs": [
    {
     "data": {
      "text/plain": [
       "array([[2, 1, 3]])"
      ]
     },
     "execution_count": 62,
     "metadata": {},
     "output_type": "execute_result"
    }
   ],
   "source": [
    "arr2d[:1]"
   ]
  },
  {
   "cell_type": "markdown",
   "id": "9fead0ca-a3db-441a-ae83-a9ba2abf1a7a",
   "metadata": {},
   "source": [
    "##### This slicing operation is used to extract a subset of elements from a 2D NumPy array. It selects:\n",
    "1.The first two rows (index 0 and 1), because of :2.\n",
    "\n",
    "2.The columns starting from index 1 to the end, because of 1:.\n",
    "\n",
    "##### This allows you to extract specific parts of the 2D array efficiently."
   ]
  },
  {
   "cell_type": "code",
   "execution_count": 63,
   "id": "fd3a9829-8fde-4df8-b095-626c4a96a297",
   "metadata": {},
   "outputs": [
    {
     "data": {
      "text/plain": [
       "array([[1, 3],\n",
       "       [9, 8]])"
      ]
     },
     "execution_count": 63,
     "metadata": {},
     "output_type": "execute_result"
    }
   ],
   "source": [
    "arr2d[:2,1:]"
   ]
  },
  {
   "cell_type": "markdown",
   "id": "07d34b71-1eab-495d-ac91-d35aafcafb03",
   "metadata": {},
   "source": [
    "##### This slicing operation selects a specific subset of elements from a 2D NumPy array:\n",
    "1. The row at index 1 (the second row), because of 1.\n",
    "\n",
    "2. The first two columns (index 0 and 1), because of :2."
   ]
  },
  {
   "cell_type": "code",
   "execution_count": 64,
   "id": "ebe499e5-373f-4d43-b932-f5a26211a6ba",
   "metadata": {},
   "outputs": [
    {
     "data": {
      "text/plain": [
       "array([10,  9])"
      ]
     },
     "execution_count": 64,
     "metadata": {},
     "output_type": "execute_result"
    }
   ],
   "source": [
    "arr2d[1,:2]"
   ]
  },
  {
   "cell_type": "markdown",
   "id": "fad8b533-e14d-41f3-a96b-ec8d2b51cd0e",
   "metadata": {},
   "source": [
    "##### The slicing operation arr2d[:, :1] is used to extract a specific subset of a 2D array. It selects:\n",
    "\n",
    "1. All rows (:): Includes every row in the array.\n",
    "\n",
    "2. The first column (:1): Selects columns starting from the beginning (index 0) up to (but not including) index 1. This effectively selects only the first column."
   ]
  },
  {
   "cell_type": "code",
   "execution_count": 65,
   "id": "9dd41fc9-4e33-4045-af36-41bdef6285c1",
   "metadata": {},
   "outputs": [
    {
     "data": {
      "text/plain": [
       "array([[ 2],\n",
       "       [10],\n",
       "       [ 2]])"
      ]
     },
     "execution_count": 65,
     "metadata": {},
     "output_type": "execute_result"
    }
   ],
   "source": [
    "arr2d[:,:1]"
   ]
  },
  {
   "cell_type": "markdown",
   "id": "c5c5602d-467d-4495-916c-aba7cfcf1c73",
   "metadata": {},
   "source": [
    "# Boolean indexing"
   ]
  },
  {
   "cell_type": "markdown",
   "id": "c74817b0-096f-43b4-acd2-8f450bd0d72d",
   "metadata": {},
   "source": [
    "##### In NumPy, you can use Boolean indexing to check whether a particular element is present and to find its location in the array. When you compare \n",
    "\n",
    "##### an element with a condition (like arr == value), it returns a Boolean array where True represents the locations where the condition holds (the element is present)and False where it doesn't.\n",
    "\n",
    "##### Here's how you can check if an element is present and find its location:"
   ]
  },
  {
   "cell_type": "code",
   "execution_count": 66,
   "id": "d733ddb0-81c1-4fc8-bd0e-6bf2dba6414c",
   "metadata": {},
   "outputs": [],
   "source": [
    "name = np.array(['mobin','jack','mobin','ali','jasmin','hana'])"
   ]
  },
  {
   "cell_type": "code",
   "execution_count": 67,
   "id": "fd0a96a2-d94b-4b87-a0df-e368d5fd8551",
   "metadata": {},
   "outputs": [
    {
     "data": {
      "text/plain": [
       "array([ True, False,  True, False, False, False])"
      ]
     },
     "execution_count": 67,
     "metadata": {},
     "output_type": "execute_result"
    }
   ],
   "source": [
    "name == 'mobin'"
   ]
  },
  {
   "cell_type": "code",
   "execution_count": 68,
   "id": "36a61982-a056-4a34-935f-7b2c257ea983",
   "metadata": {},
   "outputs": [],
   "source": [
    "number = np.array([[1,3],[10,2],[3,2],[5,2],[7,3],[3,8]])"
   ]
  },
  {
   "cell_type": "code",
   "execution_count": 69,
   "id": "9a48e55c-9b5f-4d12-ac03-e570b5e6b864",
   "metadata": {},
   "outputs": [
    {
     "data": {
      "text/plain": [
       "array([[ 1,  3],\n",
       "       [10,  2],\n",
       "       [ 3,  2],\n",
       "       [ 5,  2],\n",
       "       [ 7,  3],\n",
       "       [ 3,  8]])"
      ]
     },
     "execution_count": 69,
     "metadata": {},
     "output_type": "execute_result"
    }
   ],
   "source": [
    "number"
   ]
  },
  {
   "cell_type": "markdown",
   "id": "14216bbc-db70-48ca-ac19-9232f442daab",
   "metadata": {},
   "source": [
    "##### The expression number[name == 'mobin'] is a form of Boolean indexing in NumPy. It is used to filter or select elements from one array (number) \n",
    "\n",
    "##### based on a condition applied to another array (name)."
   ]
  },
  {
   "cell_type": "code",
   "execution_count": 70,
   "id": "c5d062ab-bb8d-42c7-8c86-af27092512cf",
   "metadata": {},
   "outputs": [
    {
     "data": {
      "text/plain": [
       "array([[1, 3],\n",
       "       [3, 2]])"
      ]
     },
     "execution_count": 70,
     "metadata": {},
     "output_type": "execute_result"
    }
   ],
   "source": [
    "number[name=='mobin']"
   ]
  },
  {
   "cell_type": "markdown",
   "id": "8db1b123-f0da-4e4c-959f-b5c28656d0c4",
   "metadata": {},
   "source": [
    "##### and you can slice it"
   ]
  },
  {
   "cell_type": "code",
   "execution_count": 71,
   "id": "250da088-825d-43f8-a47c-8c5a73db2ddf",
   "metadata": {},
   "outputs": [
    {
     "data": {
      "text/plain": [
       "array([[3],\n",
       "       [2]])"
      ]
     },
     "execution_count": 71,
     "metadata": {},
     "output_type": "execute_result"
    }
   ],
   "source": [
    "number[name=='mobin',1:]"
   ]
  },
  {
   "cell_type": "markdown",
   "id": "5a07397a-c27a-498d-a782-541b1e9600bd",
   "metadata": {},
   "source": [
    "##### The expression name != 'mobin' is a comparison operation in NumPy (or Python in general) that checks if each element in the name array is not \n",
    "##### equal to the string 'mobin'. The result is a Boolean array where each element is True if the corresponding element in name is not equal to \n",
    "##### 'mobin', and False if it is equal to 'mobin'."
   ]
  },
  {
   "cell_type": "code",
   "execution_count": 72,
   "id": "89991e80-b3f6-4170-949e-9906373594f9",
   "metadata": {},
   "outputs": [
    {
     "data": {
      "text/plain": [
       "array([False,  True, False,  True,  True,  True])"
      ]
     },
     "execution_count": 72,
     "metadata": {},
     "output_type": "execute_result"
    }
   ],
   "source": [
    "name != 'mobin'"
   ]
  },
  {
   "cell_type": "markdown",
   "id": "7475e7f5-b8af-4bc5-a8cc-66af6d2f6182",
   "metadata": {},
   "source": [
    "##### You can also use ~ instead of != and it does the same thing"
   ]
  },
  {
   "cell_type": "code",
   "execution_count": 73,
   "id": "5304deab-1309-473a-9c76-6a1052cbf09d",
   "metadata": {},
   "outputs": [
    {
     "data": {
      "text/plain": [
       "array([False,  True, False,  True,  True,  True])"
      ]
     },
     "execution_count": 73,
     "metadata": {},
     "output_type": "execute_result"
    }
   ],
   "source": [
    "~(name =='mobin')"
   ]
  },
  {
   "cell_type": "code",
   "execution_count": 74,
   "id": "706757d3-43ad-4a10-b491-1e08c09210d9",
   "metadata": {},
   "outputs": [
    {
     "data": {
      "text/plain": [
       "array([[10,  2],\n",
       "       [ 5,  2],\n",
       "       [ 7,  3],\n",
       "       [ 3,  8]])"
      ]
     },
     "execution_count": 74,
     "metadata": {},
     "output_type": "execute_result"
    }
   ],
   "source": [
    "number[name != 'mobin'] "
   ]
  },
  {
   "cell_type": "code",
   "execution_count": 75,
   "id": "ed5ceb5d-6511-4520-b344-9a979436b599",
   "metadata": {},
   "outputs": [
    {
     "data": {
      "text/plain": [
       "array([[10,  2],\n",
       "       [ 5,  2],\n",
       "       [ 7,  3],\n",
       "       [ 3,  8]])"
      ]
     },
     "execution_count": 75,
     "metadata": {},
     "output_type": "execute_result"
    }
   ],
   "source": [
    "number[~(name =='mobin')] "
   ]
  },
  {
   "cell_type": "markdown",
   "id": "a85bb38d-17e6-4e02-a82c-0135f8d694d8",
   "metadata": {},
   "source": [
    "##### to Selecting two of the three names to combine multiple boolean conditions, use boolean arithmetic operators like & (and) and | (or)"
   ]
  },
  {
   "cell_type": "code",
   "execution_count": 76,
   "id": "c540d3eb-c127-4242-a529-ada82b7062ef",
   "metadata": {},
   "outputs": [],
   "source": [
    "msk = (name == 'mobin')|(name == 'jack')"
   ]
  },
  {
   "cell_type": "code",
   "execution_count": 77,
   "id": "9a614dbf-9a7d-40df-b8a3-26e834fe4058",
   "metadata": {},
   "outputs": [
    {
     "data": {
      "text/plain": [
       "array([ True,  True,  True, False, False, False])"
      ]
     },
     "execution_count": 77,
     "metadata": {},
     "output_type": "execute_result"
    }
   ],
   "source": [
    "msk"
   ]
  },
  {
   "cell_type": "code",
   "execution_count": 78,
   "id": "baeb083a-6eee-4447-b706-643833dfd961",
   "metadata": {},
   "outputs": [
    {
     "data": {
      "text/plain": [
       "array([[ 1,  3],\n",
       "       [10,  2],\n",
       "       [ 3,  2]])"
      ]
     },
     "execution_count": 78,
     "metadata": {},
     "output_type": "execute_result"
    }
   ],
   "source": [
    "number[msk]"
   ]
  },
  {
   "cell_type": "markdown",
   "id": "57fe2f2d-eaaf-4c3b-b5a9-0a4ce6d16d96",
   "metadata": {},
   "source": [
    "#####  number[name != 'mobin'] = 1: This code uses Boolean indexing in NumPy to modify specific values in the number array based on a condition applied \n",
    "##### to the name array.\n",
    "\n",
    "#### How this work:\n",
    "\n",
    "1. name != 'mobin':\n",
    "\n",
    "   . This checks if each element in the name array is not equal to 'mobin'.\n",
    "   \n",
    "   . It returns a Boolean array of True and False. If an element is not equal to 'mobin', it will be True; otherwise, it will be False.\n",
    "\n",
    "2.number[...]:\n",
    "\n",
    "\n",
    "    . This part uses the Boolean array to index into the number array and selects elements where the condition is True.\n",
    "\n",
    "3.= 1:\n",
    "\n",
    "    .This assigns the value 1 to all the selected positions in the number array where the condition is True.\n"
   ]
  },
  {
   "cell_type": "markdown",
   "id": "84cda898-693e-44ab-8f2b-a43abc0f891c",
   "metadata": {},
   "source": [
    "#### simple example:"
   ]
  },
  {
   "cell_type": "code",
   "execution_count": 79,
   "id": "46686f16-7440-491c-8389-0be4c92fe9d1",
   "metadata": {},
   "outputs": [],
   "source": [
    "name = np.array(['ali', 'mobin', 'sara', 'mobin'])"
   ]
  },
  {
   "cell_type": "code",
   "execution_count": 80,
   "id": "c4de1c63-abb0-4f1c-84de-bbbcb7ac0dca",
   "metadata": {},
   "outputs": [],
   "source": [
    "number = np.array([10, 20, 30, 40])"
   ]
  },
  {
   "cell_type": "code",
   "execution_count": 81,
   "id": "02a5db18-c06a-4d63-99bb-265b16103aef",
   "metadata": {},
   "outputs": [],
   "source": [
    "number[name != 'mobin'] = 3"
   ]
  },
  {
   "cell_type": "code",
   "execution_count": 82,
   "id": "2e935a94-7c13-474f-b627-b4f15aafedb3",
   "metadata": {},
   "outputs": [
    {
     "data": {
      "text/plain": [
       "array([ 3, 20,  3, 40])"
      ]
     },
     "execution_count": 82,
     "metadata": {},
     "output_type": "execute_result"
    }
   ],
   "source": [
    "number"
   ]
  },
  {
   "cell_type": "markdown",
   "id": "e8d1cecc-b745-493e-9beb-a952e0b07cf2",
   "metadata": {},
   "source": [
    "#### Another example:"
   ]
  },
  {
   "cell_type": "code",
   "execution_count": 83,
   "id": "fb24403e-08cf-4dfa-a64d-9b17b46b8fd1",
   "metadata": {},
   "outputs": [],
   "source": [
    "number[name != 'mobin'] = 1"
   ]
  },
  {
   "cell_type": "code",
   "execution_count": 84,
   "id": "c3b9660f-44b8-4879-a3a8-53f84cc74a58",
   "metadata": {},
   "outputs": [
    {
     "data": {
      "text/plain": [
       "array([ 1, 20,  1, 40])"
      ]
     },
     "execution_count": 84,
     "metadata": {},
     "output_type": "execute_result"
    }
   ],
   "source": [
    "number"
   ]
  },
  {
   "cell_type": "markdown",
   "id": "59c6a7b0-6f71-46c2-be77-d100452d802e",
   "metadata": {},
   "source": [
    "# Fancy indexing :\n",
    "\n",
    "### Note: \n",
    "##### Fancy indexing is a technique in NumPy that allows you to access multiple elements of an array at once using an array of indices, rather \n",
    "\n",
    "##### than a single index or a slice.\n",
    "\n"
   ]
  },
  {
   "cell_type": "code",
   "execution_count": 85,
   "id": "9ea7f3ef-f04b-4e7f-b60d-5a6d3df4c6da",
   "metadata": {},
   "outputs": [],
   "source": [
    "arr = np.zeros((8,4))"
   ]
  },
  {
   "cell_type": "markdown",
   "id": "f6884454-71e0-4aef-ba51-667123c4b905",
   "metadata": {},
   "source": [
    "##### Creat a array in the range of 8"
   ]
  },
  {
   "cell_type": "code",
   "execution_count": 86,
   "id": "64afed89-5ceb-447b-8a7b-a31fdbffffd3",
   "metadata": {},
   "outputs": [],
   "source": [
    "for i in range(8):\n",
    "    arr[i] = i"
   ]
  },
  {
   "cell_type": "code",
   "execution_count": 87,
   "id": "b9cb9f9c-fe36-4383-a316-587cb2b59dc8",
   "metadata": {},
   "outputs": [
    {
     "data": {
      "text/plain": [
       "array([[0., 0., 0., 0.],\n",
       "       [1., 1., 1., 1.],\n",
       "       [2., 2., 2., 2.],\n",
       "       [3., 3., 3., 3.],\n",
       "       [4., 4., 4., 4.],\n",
       "       [5., 5., 5., 5.],\n",
       "       [6., 6., 6., 6.],\n",
       "       [7., 7., 7., 7.]])"
      ]
     },
     "execution_count": 87,
     "metadata": {},
     "output_type": "execute_result"
    }
   ],
   "source": [
    "arr"
   ]
  },
  {
   "cell_type": "markdown",
   "id": "fd1a9631-da52-4a64-8c83-e9245de25db0",
   "metadata": {},
   "source": [
    "##### Here, we use fancy indexing to return the elements at indices 2, 1, 5, and 7 from the array."
   ]
  },
  {
   "cell_type": "code",
   "execution_count": 88,
   "id": "f5cd69c7-a21b-433b-9e8a-00c8353e9df8",
   "metadata": {},
   "outputs": [
    {
     "data": {
      "text/plain": [
       "array([[2., 2., 2., 2.],\n",
       "       [1., 1., 1., 1.],\n",
       "       [5., 5., 5., 5.],\n",
       "       [7., 7., 7., 7.]])"
      ]
     },
     "execution_count": 88,
     "metadata": {},
     "output_type": "execute_result"
    }
   ],
   "source": [
    "arr[[2,1,5,7]]"
   ]
  },
  {
   "cell_type": "code",
   "execution_count": 89,
   "id": "67228720-63af-4a47-b3e0-053e900774a5",
   "metadata": {},
   "outputs": [
    {
     "data": {
      "text/plain": [
       "array([[6., 6., 6., 6.],\n",
       "       [5., 5., 5., 5.],\n",
       "       [2., 2., 2., 2.]])"
      ]
     },
     "execution_count": 89,
     "metadata": {},
     "output_type": "execute_result"
    }
   ],
   "source": [
    "arr[[-2,-3,-6]]"
   ]
  },
  {
   "cell_type": "markdown",
   "id": "6f0755c8-a058-41dd-888a-c5880ce9b753",
   "metadata": {},
   "source": [
    " # Transposing Array and Swapping Axes"
   ]
  },
  {
   "cell_type": "markdown",
   "id": "657a5462-b851-4b75-b444-3a5b3eb1ce92",
   "metadata": {},
   "source": [
    "##### The reshape function in NumPy allows you to change the shape of an array without changing its data. It is useful when you need to reorganize \n",
    "\n",
    "##### elements into a different structure, like converting a 1D array into a 2D or 3D array."
   ]
  },
  {
   "cell_type": "code",
   "execution_count": 90,
   "id": "8fd8d15f-0928-465a-8bc1-dbec68e66122",
   "metadata": {},
   "outputs": [],
   "source": [
    "arr = np.arange(20).reshape((4,5))"
   ]
  },
  {
   "cell_type": "code",
   "execution_count": 91,
   "id": "0f68d414-8bbf-4f23-a53d-e5c25224a5dd",
   "metadata": {},
   "outputs": [
    {
     "data": {
      "text/plain": [
       "array([[ 0,  1,  2,  3,  4],\n",
       "       [ 5,  6,  7,  8,  9],\n",
       "       [10, 11, 12, 13, 14],\n",
       "       [15, 16, 17, 18, 19]])"
      ]
     },
     "execution_count": 91,
     "metadata": {},
     "output_type": "execute_result"
    }
   ],
   "source": [
    "arr"
   ]
  },
  {
   "cell_type": "markdown",
   "id": "c03a1176-23fd-4c5d-8a17-685bee540677",
   "metadata": {},
   "source": [
    "##### In NumPy, a permutation is an operation that swaps the rows and columns of an array. Useful when working with matrices and multidimensional arrays.\n",
    "\n",
    "##### In numpy you can do this with .T"
   ]
  },
  {
   "cell_type": "code",
   "execution_count": 92,
   "id": "831327a0-a0ab-42c2-92c3-2de53dd76f4b",
   "metadata": {},
   "outputs": [
    {
     "data": {
      "text/plain": [
       "array([[ 0,  5, 10, 15],\n",
       "       [ 1,  6, 11, 16],\n",
       "       [ 2,  7, 12, 17],\n",
       "       [ 3,  8, 13, 18],\n",
       "       [ 4,  9, 14, 19]])"
      ]
     },
     "execution_count": 92,
     "metadata": {},
     "output_type": "execute_result"
    }
   ],
   "source": [
    "arr.T"
   ]
  },
  {
   "cell_type": "markdown",
   "id": "ea618f96-a108-47ff-9cb9-faeeb9233724",
   "metadata": {},
   "source": [
    "##### and you can use transpose() function for transposing array"
   ]
  },
  {
   "cell_type": "code",
   "execution_count": 93,
   "id": "d5792688-9038-4959-aed6-0f6a4c906503",
   "metadata": {},
   "outputs": [
    {
     "data": {
      "text/plain": [
       "array([[ 0,  5, 10, 15],\n",
       "       [ 1,  6, 11, 16],\n",
       "       [ 2,  7, 12, 17],\n",
       "       [ 3,  8, 13, 18],\n",
       "       [ 4,  9, 14, 19]])"
      ]
     },
     "execution_count": 93,
     "metadata": {},
     "output_type": "execute_result"
    }
   ],
   "source": [
    "np.transpose(arr)"
   ]
  },
  {
   "cell_type": "markdown",
   "id": "a5dc9623-bcc0-4a3b-81f6-9af09910ad24",
   "metadata": {},
   "source": [
    "##### np.dot() returns the dot product of vectors a and b."
   ]
  },
  {
   "cell_type": "code",
   "execution_count": 94,
   "id": "d4126bdc-861f-4080-947d-21192c1ec497",
   "metadata": {},
   "outputs": [],
   "source": [
    "arr = np.array([[1,5,3],[8,5,7],[9,10,2]])"
   ]
  },
  {
   "cell_type": "code",
   "execution_count": 95,
   "id": "92647c4d-2430-40b8-8935-087858aa0bc0",
   "metadata": {},
   "outputs": [
    {
     "data": {
      "text/plain": [
       "array([[ 1,  5,  3],\n",
       "       [ 8,  5,  7],\n",
       "       [ 9, 10,  2]])"
      ]
     },
     "execution_count": 95,
     "metadata": {},
     "output_type": "execute_result"
    }
   ],
   "source": [
    "arr"
   ]
  },
  {
   "cell_type": "code",
   "execution_count": 96,
   "id": "1115d8a5-c5a1-4756-9252-3d1b97151299",
   "metadata": {},
   "outputs": [
    {
     "data": {
      "text/plain": [
       "array([[146, 135,  77],\n",
       "       [135, 150,  70],\n",
       "       [ 77,  70,  62]])"
      ]
     },
     "execution_count": 96,
     "metadata": {},
     "output_type": "execute_result"
    }
   ],
   "source": [
    "np.dot(arr.T,arr)"
   ]
  },
  {
   "cell_type": "markdown",
   "id": "bbeedf88-2280-4b5f-ad01-d476419c93c0",
   "metadata": {},
   "source": [
    "##### You can also use @ instead of np.dot"
   ]
  },
  {
   "cell_type": "code",
   "execution_count": 97,
   "id": "f5d36ed4-1868-41de-be0e-27b0c198d761",
   "metadata": {},
   "outputs": [
    {
     "data": {
      "text/plain": [
       "array([[146, 135,  77],\n",
       "       [135, 150,  70],\n",
       "       [ 77,  70,  62]])"
      ]
     },
     "execution_count": 97,
     "metadata": {},
     "output_type": "execute_result"
    }
   ],
   "source": [
    "arr.T @ arr"
   ]
  },
  {
   "cell_type": "markdown",
   "id": "9bd02f93-af96-48be-b243-8ba0c43b631b",
   "metadata": {},
   "source": [
    "##### The swapaxes() function in NumPy is used to swap two axes (dimensions) of an array. It is useful when working with multi-dimensional arrays, \n",
    "\n",
    "##### where you need to rearrange data without changing the actual values. "
   ]
  },
  {
   "cell_type": "code",
   "execution_count": 98,
   "id": "60b69888-27c8-4348-b8b0-d0859670a385",
   "metadata": {},
   "outputs": [
    {
     "data": {
      "text/plain": [
       "array([[ 1,  8,  9],\n",
       "       [ 5,  5, 10],\n",
       "       [ 3,  7,  2]])"
      ]
     },
     "execution_count": 98,
     "metadata": {},
     "output_type": "execute_result"
    }
   ],
   "source": [
    "arr.swapaxes(0,1)"
   ]
  },
  {
   "cell_type": "markdown",
   "id": "88428a8e-6eef-437d-8326-e8312d16b95f",
   "metadata": {},
   "source": [
    "# Pseudorandom Number Generation :\n",
    "\n",
    "#### Note :\n",
    "##### In NumPy, pseudorandom numbers are generated using the random module, specifically numpy.random. These numbers are not truly random but are \n",
    "\n",
    "##### generated using a deterministic algorithm based on a seed value.\n",
    "\n"
   ]
  },
  {
   "cell_type": "markdown",
   "id": "3c50b242-d777-49e9-b451-c5a9944b8bac",
   "metadata": {},
   "source": [
    "##"
   ]
  },
  {
   "cell_type": "markdown",
   "id": "30a560b7-2548-4752-ab36-8d28a6240aad",
   "metadata": {},
   "source": [
    "##### This function generates a 2D array (shape 2×4) of random numbers drawn from a standard normal distribution.\n",
    "\n",
    "#### Note:\n",
    "##### standard_normal()  Generates random numbers from a normal distribution "
   ]
  },
  {
   "cell_type": "code",
   "execution_count": 99,
   "id": "f287bd43-d821-4092-a2be-21bc5dc8d405",
   "metadata": {},
   "outputs": [],
   "source": [
    "arr = np.random.standard_normal(size=(2,4))"
   ]
  },
  {
   "cell_type": "code",
   "execution_count": 100,
   "id": "7c0cf99d-f3b4-4cbf-85b9-cbf18523f681",
   "metadata": {},
   "outputs": [
    {
     "data": {
      "text/plain": [
       "array([[ 0.55574009,  1.63191896, -0.08037153,  0.19127568],\n",
       "       [-1.30097956, -1.99523285,  0.09465933, -0.02996521]])"
      ]
     },
     "execution_count": 100,
     "metadata": {},
     "output_type": "execute_result"
    }
   ],
   "source": [
    "arr"
   ]
  },
  {
   "cell_type": "markdown",
   "id": "880cd38a-d4f5-4ab6-9f48-184f14aefa6b",
   "metadata": {},
   "source": [
    "#### In NumPy, starting from version 1.17, a new random number generation system was introduced with the default_rng() function. This new approach \n",
    "\n",
    "##### offers better performance, and more control, and is intended to replace older functions like np.random.randn() and np.random.standard_normal().\n",
    "\n",
    "1.np.random.default_rng(seed=12345):\n",
    "\n",
    "    . default_rng() creates a Random Generator (RNG) object. This object provides methods to generate random numbers.\n",
    "\n",
    "    . seed=12345: The seed ensures reproducibility, meaning you will get the same sequence of random numbers each time the code is run.\n",
    "      Setting the seed ensures that the random number generation is deterministic.\n",
    "\n",
    "2.rng.standard_normal((2,3))\n",
    "\n",
    "    . standard_normal() generates random numbers from a standard normal distribution (mean = 0, standard deviation = 1).\n",
    "\n",
    "    . (2, 3): This argument specifies that you want a 2×3 array (2 rows and 3 columns).\n"
   ]
  },
  {
   "cell_type": "code",
   "execution_count": 101,
   "id": "eaa0eb2b-7d2f-4ddb-a4f5-01ac028d61fa",
   "metadata": {},
   "outputs": [],
   "source": [
    "rng = np.random.default_rng(seed=12345)\n",
    "\n",
    "test = rng.standard_normal((2,3))"
   ]
  },
  {
   "cell_type": "code",
   "execution_count": 102,
   "id": "9fa612d9-6b4c-4d09-a034-87bfa3bb3b25",
   "metadata": {},
   "outputs": [
    {
     "data": {
      "text/plain": [
       "array([[-1.42382504,  1.26372846, -0.87066174],\n",
       "       [-0.25917323, -0.07534331, -0.74088465]])"
      ]
     },
     "execution_count": 102,
     "metadata": {},
     "output_type": "execute_result"
    }
   ],
   "source": [
    "test"
   ]
  },
  {
   "cell_type": "markdown",
   "id": "dc061c38-973d-459b-81fb-3a8e94605159",
   "metadata": {},
   "source": [
    "# Universal Functions: Fast Element-Wise Array Functions\n",
    " A universal function, or ufunc, is a function that performs element-wise operations on data in ndarrays. You can think of them as fast vectorized wrappers for simple functions that take one or more scalar values and produce one or more scalar results."
   ]
  },
  {
   "cell_type": "code",
   "execution_count": 103,
   "id": "0f80b417-ed36-450f-94c0-ec7efe14f761",
   "metadata": {},
   "outputs": [],
   "source": [
    "example = np.arange(10) "
   ]
  },
  {
   "cell_type": "code",
   "execution_count": 104,
   "id": "9160a42b-4ccd-457f-973d-55310e6aff73",
   "metadata": {},
   "outputs": [
    {
     "data": {
      "text/plain": [
       "array([0, 1, 2, 3, 4, 5, 6, 7, 8, 9])"
      ]
     },
     "execution_count": 104,
     "metadata": {},
     "output_type": "execute_result"
    }
   ],
   "source": [
    "example"
   ]
  },
  {
   "cell_type": "markdown",
   "id": "3cee4547-1261-4fbe-b4f6-4a477447936d",
   "metadata": {},
   "source": [
    "##### The function np.sqrt() in NumPy is used to compute the square root of each element in the input array example. It works element-wise, meaning it \n",
    "\n",
    "##### applies the square root operation to each element of the array individually.\n",
    "\n"
   ]
  },
  {
   "cell_type": "code",
   "execution_count": 105,
   "id": "5b6b39d4-7106-492d-a7ed-e5bc729de914",
   "metadata": {},
   "outputs": [
    {
     "data": {
      "text/plain": [
       "array([0.        , 1.        , 1.41421356, 1.73205081, 2.        ,\n",
       "       2.23606798, 2.44948974, 2.64575131, 2.82842712, 3.        ])"
      ]
     },
     "execution_count": 105,
     "metadata": {},
     "output_type": "execute_result"
    }
   ],
   "source": [
    "np.sqrt(example)"
   ]
  },
  {
   "cell_type": "markdown",
   "id": "75cfa4f2-de77-425f-95b3-63fa5ab0c973",
   "metadata": {},
   "source": [
    "##### The function np.exp() in NumPy is used to compute the exponential of each element in the input array example. Specifically, it calculates \n",
    "##### where e is the base of the natural logarithm (approximately 2.71828), and x is the value of each element in the array."
   ]
  },
  {
   "cell_type": "code",
   "execution_count": 106,
   "id": "d4194f2b-b068-4327-aa63-d38174fbc2fc",
   "metadata": {},
   "outputs": [
    {
     "data": {
      "text/plain": [
       "array([1.00000000e+00, 2.71828183e+00, 7.38905610e+00, 2.00855369e+01,\n",
       "       5.45981500e+01, 1.48413159e+02, 4.03428793e+02, 1.09663316e+03,\n",
       "       2.98095799e+03, 8.10308393e+03])"
      ]
     },
     "execution_count": 106,
     "metadata": {},
     "output_type": "execute_result"
    }
   ],
   "source": [
    "np.exp(example)"
   ]
  },
  {
   "cell_type": "code",
   "execution_count": 107,
   "id": "aa66c0e8-a256-44b0-988c-300cdfa349d1",
   "metadata": {},
   "outputs": [],
   "source": [
    "x = rng.standard_normal(8)"
   ]
  },
  {
   "cell_type": "code",
   "execution_count": 108,
   "id": "f081c311-c0ec-41bd-80cc-96d10f46a152",
   "metadata": {},
   "outputs": [],
   "source": [
    "y = rng.standard_normal(8)"
   ]
  },
  {
   "cell_type": "code",
   "execution_count": 109,
   "id": "2450ce6d-028a-46c5-9fdf-40fe4e20a30e",
   "metadata": {},
   "outputs": [
    {
     "data": {
      "text/plain": [
       "array([-1.3677927 ,  0.6488928 ,  0.36105811, -1.95286306,  2.34740965,\n",
       "        0.96849691, -0.75938718,  0.90219827])"
      ]
     },
     "execution_count": 109,
     "metadata": {},
     "output_type": "execute_result"
    }
   ],
   "source": [
    "x"
   ]
  },
  {
   "cell_type": "code",
   "execution_count": 110,
   "id": "17d5465c-b8da-4f75-a0d4-605aad348708",
   "metadata": {},
   "outputs": [
    {
     "data": {
      "text/plain": [
       "array([-0.46695317, -0.06068952,  0.78884434, -1.25666813,  0.57585751,\n",
       "        1.39897899,  1.32229806, -0.29969852])"
      ]
     },
     "execution_count": 110,
     "metadata": {},
     "output_type": "execute_result"
    }
   ],
   "source": [
    "y"
   ]
  },
  {
   "cell_type": "markdown",
   "id": "e4d59a1f-9c17-49cb-852b-569a8684a045",
   "metadata": {},
   "source": [
    "##### The function np.maximum(x, y)  used to compare two arrays (or scalars) element-wise and return an array where each element is the maximum of the \n",
    "\n",
    "##### corresponding elements from x and y.\n",
    "\n",
    "##### In other words, for each pair of elements from x and y, it selects the larger one and creates a new array with those values."
   ]
  },
  {
   "cell_type": "code",
   "execution_count": 111,
   "id": "e7322282-0241-4391-851c-c0d6d804db76",
   "metadata": {},
   "outputs": [
    {
     "data": {
      "text/plain": [
       "array([-0.46695317,  0.6488928 ,  0.78884434, -1.25666813,  2.34740965,\n",
       "        1.39897899,  1.32229806,  0.90219827])"
      ]
     },
     "execution_count": 111,
     "metadata": {},
     "output_type": "execute_result"
    }
   ],
   "source": [
    "np.maximum(x,y)"
   ]
  },
  {
   "cell_type": "markdown",
   "id": "dba6f7a2-129a-4a93-a6d6-e315f8c4d739",
   "metadata": {},
   "source": [
    "# Expressing Conditional Logic as Array Opreations"
   ]
  },
  {
   "cell_type": "markdown",
   "id": "9d9fee62-dcd3-483e-a457-2598e0c9a4f2",
   "metadata": {},
   "source": [
    "##### NumPy allows us to apply conditional logic directly on arrays without using loops, making computations faster and more efficient. This is useful \n",
    "\n",
    "##### for tasks like filtering, replacing values, and conditional transformations.\n",
    "\n"
   ]
  },
  {
   "cell_type": "code",
   "execution_count": 115,
   "id": "0ebaa932-5c82-4f91-b641-e97d786a9253",
   "metadata": {},
   "outputs": [],
   "source": [
    "arr= rng.standard_normal((5,5))"
   ]
  },
  {
   "cell_type": "code",
   "execution_count": 116,
   "id": "1d157d4c-4458-461a-a056-6d24e11d0193",
   "metadata": {},
   "outputs": [
    {
     "data": {
      "text/plain": [
       "array([[ 1.34707776,  0.06114402,  0.0709146 ,  0.43365454,  0.27748366],\n",
       "       [ 0.53025239,  0.53672097,  0.61835001, -0.79501746,  0.30003095],\n",
       "       [-1.60270159,  0.26679883, -1.26162378, -0.07127081,  0.47404973],\n",
       "       [-0.41485376,  0.0977165 , -1.64041784, -0.85725882,  0.68828179],\n",
       "       [-1.15452958,  0.65045239, -1.38835995, -0.90738246, -1.09542531]])"
      ]
     },
     "execution_count": 116,
     "metadata": {},
     "output_type": "execute_result"
    }
   ],
   "source": [
    "arr"
   ]
  },
  {
   "cell_type": "code",
   "execution_count": 117,
   "id": "6b48b92c-fb97-472f-ac06-5ec3d42c5b02",
   "metadata": {},
   "outputs": [
    {
     "data": {
      "text/plain": [
       "array([[ True,  True,  True,  True,  True],\n",
       "       [ True,  True,  True, False,  True],\n",
       "       [False,  True, False, False,  True],\n",
       "       [False,  True, False, False,  True],\n",
       "       [False,  True, False, False, False]])"
      ]
     },
     "execution_count": 117,
     "metadata": {},
     "output_type": "execute_result"
    }
   ],
   "source": [
    "arr > 0"
   ]
  },
  {
   "cell_type": "markdown",
   "id": "31170c50-4551-4490-9d87-7b74f9493572",
   "metadata": {},
   "source": [
    "##### The function np.where(condition, x, y) works like an if-else statement applied element-wise to a NumPy array."
   ]
  },
  {
   "cell_type": "markdown",
   "id": "d6a6ac8a-e927-4cac-83ea-ff88b39ef4b3",
   "metadata": {},
   "source": [
    "#### for Example:"
   ]
  },
  {
   "cell_type": "code",
   "execution_count": 118,
   "id": "1f17e348-54bc-454a-ab87-e15ef4024394",
   "metadata": {},
   "outputs": [
    {
     "data": {
      "text/plain": [
       "array([[1, 1, 1, 1, 1],\n",
       "       [1, 1, 1, 0, 1],\n",
       "       [0, 1, 0, 0, 1],\n",
       "       [0, 1, 0, 0, 1],\n",
       "       [0, 1, 0, 0, 0]])"
      ]
     },
     "execution_count": 118,
     "metadata": {},
     "output_type": "execute_result"
    }
   ],
   "source": [
    "np.where(arr > 0,1,0)"
   ]
  },
  {
   "cell_type": "markdown",
   "id": "a87e696b-ac1a-4959-8b48-bd8049626318",
   "metadata": {},
   "source": [
    "# Mathmatical and Statistical Methods"
   ]
  },
  {
   "cell_type": "code",
   "execution_count": 119,
   "id": "c5af2ace-4d9f-403a-b22e-3bfb1e6b6a65",
   "metadata": {},
   "outputs": [],
   "source": [
    "arr = rng.standard_normal((5,5))"
   ]
  },
  {
   "cell_type": "code",
   "execution_count": 120,
   "id": "151bebfa-9d78-40be-9b58-8c26cc750a18",
   "metadata": {},
   "outputs": [
    {
     "data": {
      "text/plain": [
       "array([[ 7.14569494e-03,  5.34359903e-01, -1.06580785e+00,\n",
       "        -1.81472740e-01,  1.62195180e+00],\n",
       "       [-3.17391946e-01, -8.15814967e-01,  3.86579017e-01,\n",
       "        -2.23638926e-01, -7.01690809e-01],\n",
       "       [-1.79571318e+00,  8.18325622e-01, -5.71032902e-01,\n",
       "         7.85525063e-04, -1.06364272e+00],\n",
       "       [ 1.30171450e+00,  7.47872942e-01,  9.80875909e-01,\n",
       "        -1.10418688e-01,  4.67918531e-01],\n",
       "       [ 8.90607150e-01,  1.02300937e+00,  3.12383389e-01,\n",
       "        -6.19046857e-02, -3.59479647e-01]])"
      ]
     },
     "execution_count": 120,
     "metadata": {},
     "output_type": "execute_result"
    }
   ],
   "source": [
    "arr"
   ]
  },
  {
   "cell_type": "markdown",
   "id": "50df4083-f1ac-4f76-8178-d4fb50f64fce",
   "metadata": {},
   "source": [
    "##### The mean() function calculates the average (arithmetic mean) of the elements in a NumPy array."
   ]
  },
  {
   "cell_type": "code",
   "execution_count": 109,
   "id": "cd509acc-4cdf-4f34-9a50-7511b7ded182",
   "metadata": {},
   "outputs": [
    {
     "data": {
      "text/plain": [
       "-0.19343652888887364"
      ]
     },
     "execution_count": 109,
     "metadata": {},
     "output_type": "execute_result"
    }
   ],
   "source": [
    "np.mean(arr)"
   ]
  },
  {
   "cell_type": "markdown",
   "id": "ef64a874-7240-4b94-ae09-f1e175711798",
   "metadata": {},
   "source": [
    "##### The sum() function calculates the sum of an array"
   ]
  },
  {
   "cell_type": "code",
   "execution_count": 110,
   "id": "8c55f40c-b480-43d6-a918-de347e8ec4ff",
   "metadata": {},
   "outputs": [
    {
     "data": {
      "text/plain": [
       "-4.835913222221841"
      ]
     },
     "execution_count": 110,
     "metadata": {},
     "output_type": "execute_result"
    }
   ],
   "source": [
    "np.sum(arr)"
   ]
  },
  {
   "cell_type": "markdown",
   "id": "e7b1ff8d-1f41-4060-a93a-e7012c7738e8",
   "metadata": {},
   "source": [
    "##### The np.mean(arr, axis=1) function calculates the mean (mean) along the rows in a 2D NumPy array. And we can count any row we want\n"
   ]
  },
  {
   "cell_type": "code",
   "execution_count": 121,
   "id": "e30685f2-abd4-4cac-9541-65e727bd83cd",
   "metadata": {},
   "outputs": [
    {
     "data": {
      "text/plain": [
       "array([ 0.18323536, -0.33439153, -0.52225553,  0.67759264,  0.36092311])"
      ]
     },
     "execution_count": 121,
     "metadata": {},
     "output_type": "execute_result"
    }
   ],
   "source": [
    "np.mean(arr,axis = 1)"
   ]
  },
  {
   "cell_type": "markdown",
   "id": "e473f024-d018-4548-9691-5253a856fa9c",
   "metadata": {},
   "source": [
    "##### You can also use it for sum()"
   ]
  },
  {
   "cell_type": "code",
   "execution_count": 122,
   "id": "7c552480-8e0d-4ed9-9ee6-fd3a8936dd9a",
   "metadata": {},
   "outputs": [
    {
     "data": {
      "text/plain": [
       "array([ 0.08636222,  2.30775287,  0.04299757, -0.57664951, -0.03494284])"
      ]
     },
     "execution_count": 122,
     "metadata": {},
     "output_type": "execute_result"
    }
   ],
   "source": [
    "np.sum(arr,axis = 0)"
   ]
  },
  {
   "cell_type": "markdown",
   "id": "d959fa78-ade3-4269-8fb6-4080ab45b1c2",
   "metadata": {},
   "source": [
    "# Methods for Boolean Arrays"
   ]
  },
  {
   "cell_type": "code",
   "execution_count": 123,
   "id": "7d88723e-5e87-40ba-9b3b-b235a4f7c405",
   "metadata": {},
   "outputs": [],
   "source": [
    "arr = rng.standard_normal(100)"
   ]
  },
  {
   "cell_type": "code",
   "execution_count": 114,
   "id": "d335265b-028c-495c-a64d-d16aec2cd1ca",
   "metadata": {},
   "outputs": [
    {
     "data": {
      "text/plain": [
       "array([ 7.14569494e-03,  5.34359903e-01, -1.06580785e+00, -1.81472740e-01,\n",
       "        1.62195180e+00, -3.17391946e-01, -8.15814967e-01,  3.86579017e-01,\n",
       "       -2.23638926e-01, -7.01690809e-01, -1.79571318e+00,  8.18325622e-01,\n",
       "       -5.71032902e-01,  7.85525063e-04, -1.06364272e+00,  1.30171450e+00,\n",
       "        7.47872942e-01,  9.80875909e-01, -1.10418688e-01,  4.67918531e-01,\n",
       "        8.90607150e-01,  1.02300937e+00,  3.12383389e-01, -6.19046857e-02,\n",
       "       -3.59479647e-01, -7.48643984e-01, -9.65478907e-01,  3.60034657e-01,\n",
       "       -2.44552532e-01, -1.99585661e+00, -1.55247617e-01,  1.06383087e+00,\n",
       "       -2.75171567e-01, -1.85333593e+00, -1.24341928e-01,  7.84974522e-01,\n",
       "        2.01998597e-01, -4.28074443e-01,  1.84828890e+00,  1.89995289e+00,\n",
       "       -9.84250348e-02,  8.13445440e-01,  3.92494389e-01,  7.81442900e-01,\n",
       "        1.45327152e+00,  8.20186045e-01,  8.77053446e-02, -6.53505648e-01,\n",
       "       -8.11886879e-01, -2.55381724e-02,  1.15818454e+00,  3.00520870e-01,\n",
       "        5.30566461e-02,  2.57271524e-01,  3.57428624e-02,  5.47236686e-01,\n",
       "       -1.12296158e+00, -1.97524767e+00, -4.25150050e-01, -1.14907382e+00,\n",
       "        1.61513805e+00, -1.58476860e-01, -2.52873345e-01, -1.53815403e+00,\n",
       "        2.82086033e-01, -6.23612134e-01,  1.12182226e+00,  8.41221031e-01,\n",
       "       -7.75896101e-01,  4.10716440e-01, -2.72241610e+00, -6.73304799e-01,\n",
       "        1.24622153e+00,  7.90208028e-01,  1.75340888e-01, -2.92946016e-02,\n",
       "       -1.41951426e+00, -1.35996632e+00,  2.23411559e-01,  1.76177943e+00,\n",
       "       -2.17088985e+00,  6.28488171e-01,  6.01196526e-01,  9.50757858e-01,\n",
       "       -8.69246667e-01, -5.29007071e-01,  4.56840956e-02, -1.02755181e+00,\n",
       "       -1.22928930e+00, -8.83358472e-01, -7.08934637e-02,  3.74053351e-01,\n",
       "       -2.45937384e-02,  7.72606583e-02, -6.83913218e-01, -7.20837668e-01,\n",
       "        1.12062282e+00, -5.48141603e-02, -8.24137242e-02,  9.35986501e-01])"
      ]
     },
     "execution_count": 114,
     "metadata": {},
     "output_type": "execute_result"
    }
   ],
   "source": [
    "arr"
   ]
  },
  {
   "cell_type": "markdown",
   "id": "db80c463-f92e-4ecf-b037-44cb3d872f91",
   "metadata": {},
   "source": [
    "##### This expression counts the number of positive elements in a NumPy array."
   ]
  },
  {
   "cell_type": "code",
   "execution_count": 115,
   "id": "22b324da-f96b-4f25-814d-a2fc6755dce9",
   "metadata": {},
   "outputs": [
    {
     "data": {
      "text/plain": [
       "49"
      ]
     },
     "execution_count": 115,
     "metadata": {},
     "output_type": "execute_result"
    }
   ],
   "source": [
    "(arr > 0).sum()"
   ]
  },
  {
   "cell_type": "markdown",
   "id": "aabc0a64-7140-4751-bedc-6a3c6f6147e4",
   "metadata": {},
   "source": [
    "##### This expression calculates the proportion of elements in arr that are less than or equal to 0."
   ]
  },
  {
   "cell_type": "code",
   "execution_count": 116,
   "id": "52b0763e-1bdc-4ef7-a6ff-2f74e302c7bd",
   "metadata": {},
   "outputs": [
    {
     "data": {
      "text/plain": [
       "0.51"
      ]
     },
     "execution_count": 116,
     "metadata": {},
     "output_type": "execute_result"
    }
   ],
   "source": [
    "(arr <= 0).mean()"
   ]
  },
  {
   "cell_type": "code",
   "execution_count": 117,
   "id": "51ec564d-4f7b-4c18-b429-b55db750e758",
   "metadata": {},
   "outputs": [
    {
     "data": {
      "text/plain": [
       "51"
      ]
     },
     "execution_count": 117,
     "metadata": {},
     "output_type": "execute_result"
    }
   ],
   "source": [
    "(arr <= 0).sum()"
   ]
  },
  {
   "cell_type": "code",
   "execution_count": 125,
   "id": "4370d64f-cebf-4be7-aca4-435662d2ed2e",
   "metadata": {},
   "outputs": [],
   "source": [
    "bools = np.array([True,True,True,False])"
   ]
  },
  {
   "cell_type": "markdown",
   "id": "25c77b70-1cdc-481f-b06a-ccc74d9decb1",
   "metadata": {},
   "source": [
    "##### The .any() function in NumPy checks if at least one True value exists in a Boolean array. If at least one element is True, it returns True; \n",
    "\n",
    "##### otherwise, it returns False.\n",
    "\n"
   ]
  },
  {
   "cell_type": "code",
   "execution_count": 126,
   "id": "2728f913-9bde-45a8-857f-605afb620749",
   "metadata": {},
   "outputs": [
    {
     "data": {
      "text/plain": [
       "True"
      ]
     },
     "execution_count": 126,
     "metadata": {},
     "output_type": "execute_result"
    }
   ],
   "source": [
    "bools.any()"
   ]
  },
  {
   "cell_type": "markdown",
   "id": "847c8f20-be2d-497e-8d72-f84459cff1e5",
   "metadata": {},
   "source": [
    "##### The .all() function in NumPy checks if all elements in a Boolean array are True\n",
    "\n",
    ". Returns True if every element in the array is True.\n",
    "\n",
    ". Returns False if at least one element is False."
   ]
  },
  {
   "cell_type": "code",
   "execution_count": 127,
   "id": "b21dcd64-8027-4abd-a0a8-3032aadb38ed",
   "metadata": {},
   "outputs": [
    {
     "data": {
      "text/plain": [
       "False"
      ]
     },
     "execution_count": 127,
     "metadata": {},
     "output_type": "execute_result"
    }
   ],
   "source": [
    "bools.all()"
   ]
  },
  {
   "cell_type": "markdown",
   "id": "09980602-ccdd-472c-8a08-6031dd1cdefd",
   "metadata": {},
   "source": [
    "# Sorting"
   ]
  },
  {
   "cell_type": "code",
   "execution_count": 130,
   "id": "5578177c-b6bc-48ab-b875-c8cfa1d92e82",
   "metadata": {},
   "outputs": [],
   "source": [
    "arr = rng.standard_normal((5,3))"
   ]
  },
  {
   "cell_type": "code",
   "execution_count": 131,
   "id": "65cd94fa-b412-44d6-ac7e-00315d8be613",
   "metadata": {},
   "outputs": [
    {
     "data": {
      "text/plain": [
       "array([[ 0.21605944, -0.96482356, -0.5566078 ],\n",
       "       [-2.29838764, -0.73208213,  0.7364691 ],\n",
       "       [ 0.46571672, -0.10787605, -0.34143629],\n",
       "       [ 1.58453379,  0.28224121,  0.90954639],\n",
       "       [ 0.39507157, -0.66937652,  1.55536898]])"
      ]
     },
     "execution_count": 131,
     "metadata": {},
     "output_type": "execute_result"
    }
   ],
   "source": [
    "arr"
   ]
  },
  {
   "cell_type": "code",
   "execution_count": 132,
   "id": "3b0755f4-5792-4f00-bdf5-be13bcb075c0",
   "metadata": {},
   "outputs": [
    {
     "data": {
      "text/plain": [
       "array([[-0.96482356, -0.5566078 ,  0.21605944],\n",
       "       [-2.29838764, -0.73208213,  0.7364691 ],\n",
       "       [-0.34143629, -0.10787605,  0.46571672],\n",
       "       [ 0.28224121,  0.90954639,  1.58453379],\n",
       "       [-0.66937652,  0.39507157,  1.55536898]])"
      ]
     },
     "execution_count": 132,
     "metadata": {},
     "output_type": "execute_result"
    }
   ],
   "source": [
    "np.sort(arr)"
   ]
  },
  {
   "cell_type": "markdown",
   "id": "c770bbf9-6d4c-4044-a1e9-d2c1e73af360",
   "metadata": {},
   "source": [
    "##### arr.sort(axis = 0) sort values with each column "
   ]
  },
  {
   "cell_type": "code",
   "execution_count": 133,
   "id": "acb300eb-8423-498a-ae95-d6bed726cc8b",
   "metadata": {},
   "outputs": [
    {
     "data": {
      "text/plain": [
       "array([[-2.29838764, -0.96482356, -0.5566078 ],\n",
       "       [ 0.21605944, -0.73208213, -0.34143629],\n",
       "       [ 0.39507157, -0.66937652,  0.7364691 ],\n",
       "       [ 0.46571672, -0.10787605,  0.90954639],\n",
       "       [ 1.58453379,  0.28224121,  1.55536898]])"
      ]
     },
     "execution_count": 133,
     "metadata": {},
     "output_type": "execute_result"
    }
   ],
   "source": [
    "np.sort(arr,axis = 0)"
   ]
  },
  {
   "cell_type": "markdown",
   "id": "00e42771-50b0-439e-b9a0-5fc4a8af917a",
   "metadata": {},
   "source": [
    "##### and np.sort(axis = 1) sort each rows"
   ]
  },
  {
   "cell_type": "code",
   "execution_count": 134,
   "id": "ee5039e6-8109-478d-9bc1-012278a2e403",
   "metadata": {},
   "outputs": [
    {
     "data": {
      "text/plain": [
       "array([[-0.96482356, -0.5566078 ,  0.21605944],\n",
       "       [-2.29838764, -0.73208213,  0.7364691 ],\n",
       "       [-0.34143629, -0.10787605,  0.46571672],\n",
       "       [ 0.28224121,  0.90954639,  1.58453379],\n",
       "       [-0.66937652,  0.39507157,  1.55536898]])"
      ]
     },
     "execution_count": 134,
     "metadata": {},
     "output_type": "execute_result"
    }
   ],
   "source": [
    "np.sort(arr,axis = 1)"
   ]
  },
  {
   "cell_type": "markdown",
   "id": "9bce480b-76a9-4598-9a40-eddeaf9597d7",
   "metadata": {},
   "source": [
    "# Unique and Other set Logic"
   ]
  },
  {
   "cell_type": "code",
   "execution_count": 126,
   "id": "5e65c398-f3ce-465d-a4ef-c96609a722a7",
   "metadata": {},
   "outputs": [],
   "source": [
    "names = np.array(['bob','bob','joe','jack','bob','joe','bob','bob',])"
   ]
  },
  {
   "cell_type": "markdown",
   "id": "5c79ab6f-803b-4ecc-b7a0-b6873f302106",
   "metadata": {},
   "source": [
    "##### The np.unique() function returns the unique elements from an array, sorted in ascending order. It removes any duplicate values in the array."
   ]
  },
  {
   "cell_type": "code",
   "execution_count": 127,
   "id": "23b52a76-2a91-4bdd-aff2-fd09a5eb333f",
   "metadata": {},
   "outputs": [],
   "source": [
    "name = np.unique(names)"
   ]
  },
  {
   "cell_type": "code",
   "execution_count": 128,
   "id": "3d54d48f-69b5-411e-8c31-f3e63fb3b33f",
   "metadata": {},
   "outputs": [
    {
     "data": {
      "text/plain": [
       "array(['bob', 'jack', 'joe'], dtype='<U4')"
      ]
     },
     "execution_count": 128,
     "metadata": {},
     "output_type": "execute_result"
    }
   ],
   "source": [
    "name"
   ]
  },
  {
   "cell_type": "markdown",
   "id": "95e6c217-177f-4f6e-bbf2-429506dd57ea",
   "metadata": {},
   "source": [
    "##### Another example :"
   ]
  },
  {
   "cell_type": "code",
   "execution_count": 135,
   "id": "bf76165d-9256-4af3-aa0d-f5fbd28dad3d",
   "metadata": {},
   "outputs": [],
   "source": [
    "num = np.array([1,5,2,2,2,3,3,5])"
   ]
  },
  {
   "cell_type": "code",
   "execution_count": 136,
   "id": "5ed8c18d-7ee5-44fe-a265-a0558e77005b",
   "metadata": {},
   "outputs": [
    {
     "data": {
      "text/plain": [
       "array([1, 2, 3, 5])"
      ]
     },
     "execution_count": 136,
     "metadata": {},
     "output_type": "execute_result"
    }
   ],
   "source": [
    "np.unique(num)"
   ]
  },
  {
   "cell_type": "markdown",
   "id": "0f4f09e0-536b-4e8f-b505-a547d13f7c6d",
   "metadata": {},
   "source": [
    "##### The np.in1d() function checks whether elements of one array are present in another array. It returns a Boolean array."
   ]
  },
  {
   "cell_type": "code",
   "execution_count": 137,
   "id": "09bd4142-efd0-4684-8205-5395e52b2bc3",
   "metadata": {},
   "outputs": [
    {
     "data": {
      "text/plain": [
       "array([False, False,  True,  True,  True,  True,  True, False])"
      ]
     },
     "execution_count": 137,
     "metadata": {},
     "output_type": "execute_result"
    }
   ],
   "source": [
    "np.in1d(num,[3,2])"
   ]
  },
  {
   "cell_type": "code",
   "execution_count": 138,
   "id": "998ee6be-fbe6-4c8e-9e23-f2d4b0a4881d",
   "metadata": {},
   "outputs": [],
   "source": [
    "a = np.array([1,5,9,6,3,2,4,8,4])"
   ]
  },
  {
   "cell_type": "code",
   "execution_count": 139,
   "id": "8a1bd4d3-d20c-401f-b991-42f355eabf48",
   "metadata": {},
   "outputs": [
    {
     "data": {
      "text/plain": [
       "array([1, 5, 9, 6, 3, 2, 4, 8, 4])"
      ]
     },
     "execution_count": 139,
     "metadata": {},
     "output_type": "execute_result"
    }
   ],
   "source": [
    "a"
   ]
  },
  {
   "cell_type": "markdown",
   "id": "2cbc5bed-feaf-4d55-8437-9890a83373ea",
   "metadata": {},
   "source": [
    "# File input and output with Arrays"
   ]
  },
  {
   "cell_type": "markdown",
   "id": "db39e25f-6ac9-4f50-9ed6-316bc8f4648f",
   "metadata": {},
   "source": [
    "##### you can save file with np.save() function"
   ]
  },
  {
   "cell_type": "code",
   "execution_count": 155,
   "id": "23aeaff7-4634-49b8-8fe5-c741ea439a1d",
   "metadata": {},
   "outputs": [],
   "source": [
    "np.save('my_arr',a)"
   ]
  },
  {
   "cell_type": "markdown",
   "id": "337371ac-33cc-48c1-9008-57f4040f61f8",
   "metadata": {},
   "source": [
    "##### and you can load file with np.load()"
   ]
  },
  {
   "cell_type": "code",
   "execution_count": 156,
   "id": "0d696026-bbb8-4b33-a518-f2d584c486df",
   "metadata": {},
   "outputs": [
    {
     "data": {
      "text/plain": [
       "array([1, 5, 9, 6, 3, 2, 4, 8, 4])"
      ]
     },
     "execution_count": 156,
     "metadata": {},
     "output_type": "execute_result"
    }
   ],
   "source": [
    "np.load('my_arr.npy')"
   ]
  },
  {
   "cell_type": "markdown",
   "id": "ee9acc33-c455-4593-addf-e1c75ccee22d",
   "metadata": {},
   "source": [
    "##### You save multiple arrays in an uncompressed archive using np.savez and passing the arrays as keyword arguments"
   ]
  },
  {
   "cell_type": "code",
   "execution_count": 160,
   "id": "b6a6b78c-f7e0-41b0-8390-81d98be84445",
   "metadata": {},
   "outputs": [],
   "source": [
    "x = np.arange(10)"
   ]
  },
  {
   "cell_type": "code",
   "execution_count": 161,
   "id": "4235fd24-53e0-466b-b22b-5cacdc33e217",
   "metadata": {},
   "outputs": [],
   "source": [
    "z = np.arange(10,20)"
   ]
  },
  {
   "cell_type": "code",
   "execution_count": 167,
   "id": "9fbdd6af-b695-4ac7-999f-f49e1b26b136",
   "metadata": {},
   "outputs": [],
   "source": [
    "np.savez('my_duble_arr.npz',a=x ,b=z)"
   ]
  },
  {
   "cell_type": "code",
   "execution_count": 170,
   "id": "42996947-5ef1-4de9-ae79-6f983e534d4c",
   "metadata": {},
   "outputs": [],
   "source": [
    "load = np.load('my_duble_arr.npz')"
   ]
  },
  {
   "cell_type": "code",
   "execution_count": 172,
   "id": "b7e06232-9140-4916-9f02-33cdc5d64acd",
   "metadata": {},
   "outputs": [
    {
     "data": {
      "text/plain": [
       "array([10, 11, 12, 13, 14, 15, 16, 17, 18, 19])"
      ]
     },
     "execution_count": 172,
     "metadata": {},
     "output_type": "execute_result"
    }
   ],
   "source": [
    "load['b']"
   ]
  },
  {
   "cell_type": "markdown",
   "id": "7a868bce-d41e-4598-b201-d808c5983a7f",
   "metadata": {},
   "source": [
    "# Linear Algebra"
   ]
  },
  {
   "cell_type": "code",
   "execution_count": 144,
   "id": "f546d2d3-fb7e-45c1-bc43-49947f125496",
   "metadata": {},
   "outputs": [],
   "source": [
    "a = np.array(([1,5,9],[3,7,8]))"
   ]
  },
  {
   "cell_type": "code",
   "execution_count": 145,
   "id": "3abf694c-1cd6-4e58-b9c1-0e5bf4e463b2",
   "metadata": {},
   "outputs": [
    {
     "data": {
      "text/plain": [
       "array([[1, 5, 9],\n",
       "       [3, 7, 8]])"
      ]
     },
     "execution_count": 145,
     "metadata": {},
     "output_type": "execute_result"
    }
   ],
   "source": [
    "a"
   ]
  },
  {
   "cell_type": "code",
   "execution_count": 146,
   "id": "3c56474a-0156-4700-923f-031a236620bb",
   "metadata": {},
   "outputs": [],
   "source": [
    "b = np.array(([2,6],[15,8],[12,10]))"
   ]
  },
  {
   "cell_type": "code",
   "execution_count": 147,
   "id": "59b0115f-572b-4c19-8222-7a26911aa562",
   "metadata": {},
   "outputs": [
    {
     "data": {
      "text/plain": [
       "array([[ 2,  6],\n",
       "       [15,  8],\n",
       "       [12, 10]])"
      ]
     },
     "execution_count": 147,
     "metadata": {},
     "output_type": "execute_result"
    }
   ],
   "source": [
    "b"
   ]
  },
  {
   "cell_type": "markdown",
   "id": "eff0ea54-9c1a-40c4-98b6-3f41ed068494",
   "metadata": {},
   "source": [
    "##### As I said before In NumPy, the dot() function is used to perform matrix multiplication (dot product) between two arrays. It can also be used for \n",
    "\n",
    "##### vector multiplication or inner product.\n",
    "\n"
   ]
  },
  {
   "cell_type": "code",
   "execution_count": 148,
   "id": "a11eebdb-b2f4-4295-b077-1c2abdeafed0",
   "metadata": {},
   "outputs": [
    {
     "data": {
      "text/plain": [
       "array([[185, 136],\n",
       "       [207, 154]])"
      ]
     },
     "execution_count": 148,
     "metadata": {},
     "output_type": "execute_result"
    }
   ],
   "source": [
    "a.dot(b)"
   ]
  },
  {
   "cell_type": "markdown",
   "id": "d7f9eebd-3705-434c-9138-2f989376aba5",
   "metadata": {},
   "source": [
    "##### You can use np.dot(a,b) instead of a.dot(b)."
   ]
  },
  {
   "cell_type": "code",
   "execution_count": 149,
   "id": "e634c3fc-9021-432e-b3f8-d007d9d0a605",
   "metadata": {},
   "outputs": [
    {
     "data": {
      "text/plain": [
       "array([[185, 136],\n",
       "       [207, 154]])"
      ]
     },
     "execution_count": 149,
     "metadata": {},
     "output_type": "execute_result"
    }
   ],
   "source": [
    "np.dot(a,b)"
   ]
  },
  {
   "cell_type": "markdown",
   "id": "631b587c-fb91-4347-b1bd-d976aca7e7c5",
   "metadata": {},
   "source": [
    "##### The @ operator in Python is used for matrix multiplication, and it is essentially a shorthand for the np.dot() function when working with NumPy \n",
    "\n",
    "##### arrays. This operator was introduced in Python 3.5 to allow matrix multiplication in a more intuitive way, especially for linear algebra operations.\n",
    "\n"
   ]
  },
  {
   "cell_type": "code",
   "execution_count": 195,
   "id": "ba5746e8-f673-44ca-9db5-d3c686e9c103",
   "metadata": {},
   "outputs": [
    {
     "data": {
      "text/plain": [
       "array([15., 18.])"
      ]
     },
     "execution_count": 195,
     "metadata": {},
     "output_type": "execute_result"
    }
   ],
   "source": [
    "a @ np.ones(3)"
   ]
  },
  {
   "cell_type": "markdown",
   "id": "18fbb3cd-a0c4-463f-bc09-9807cbfcb652",
   "metadata": {},
   "source": [
    "##"
   ]
  },
  {
   "cell_type": "markdown",
   "id": "121f12ad-2d71-4bea-96b3-06aa833a2db2",
   "metadata": {},
   "source": [
    "### Congratulations! 🎉 You have learned the basics of NumPy, one of the most powerful libraries for numerical computing in Python. \n",
    "\n",
    "#### If you have any questions or feedback, you can contact me via email.\n",
    "\n",
    "### Good luck, and happy coding! 🚀\n",
    "\n"
   ]
  },
  {
   "cell_type": "markdown",
   "id": "c241400e-3c41-40ba-a4d7-9735aa5d1688",
   "metadata": {},
   "source": [
    "##### Final Tip: If you want to learn more, remember the NumPy documentation is a great resource: https://numpy.org/doc/stable/"
   ]
  },
  {
   "cell_type": "markdown",
   "id": "5abf97db-d09d-41fa-9bc2-6001b7263916",
   "metadata": {},
   "source": [
    "##### In memory of Haj Ali"
   ]
  },
  {
   "cell_type": "code",
   "execution_count": null,
   "id": "067f6a13-fb6a-4f53-90b5-672b077c4a97",
   "metadata": {},
   "outputs": [],
   "source": []
  }
 ],
 "metadata": {
  "kernelspec": {
   "display_name": "Python 3 (ipykernel)",
   "language": "python",
   "name": "python3"
  },
  "language_info": {
   "codemirror_mode": {
    "name": "ipython",
    "version": 3
   },
   "file_extension": ".py",
   "mimetype": "text/x-python",
   "name": "python",
   "nbconvert_exporter": "python",
   "pygments_lexer": "ipython3",
   "version": "3.12.5"
  }
 },
 "nbformat": 4,
 "nbformat_minor": 5
}
